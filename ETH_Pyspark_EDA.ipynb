{
  "nbformat": 4,
  "nbformat_minor": 0,
  "metadata": {
    "colab": {
      "name": "ETH_Pyspark_EDA.ipynb",
      "provenance": []
    },
    "kernelspec": {
      "name": "python3",
      "display_name": "Python 3"
    },
    "language_info": {
      "name": "python"
    }
  },
  "cells": [
    {
      "cell_type": "markdown",
      "source": [
        "# **Import Neccessary Libraries**"
      ],
      "metadata": {
        "id": "S_hspNcwF173"
      }
    },
    {
      "cell_type": "code",
      "source": [
        "pip install pyspark_dist_explore"
      ],
      "metadata": {
        "colab": {
          "base_uri": "https://localhost:8080/"
        },
        "id": "pJ4eFut2fMeR",
        "outputId": "499e15db-2f21-447c-d4f5-0e2a7c97973a"
      },
      "execution_count": 1,
      "outputs": [
        {
          "output_type": "stream",
          "name": "stdout",
          "text": [
            "Looking in indexes: https://pypi.org/simple, https://us-python.pkg.dev/colab-wheels/public/simple/\n",
            "Collecting pyspark_dist_explore\n",
            "  Downloading pyspark_dist_explore-0.1.8-py3-none-any.whl (7.2 kB)\n",
            "Requirement already satisfied: numpy in /usr/local/lib/python3.7/dist-packages (from pyspark_dist_explore) (1.21.6)\n",
            "Requirement already satisfied: scipy in /usr/local/lib/python3.7/dist-packages (from pyspark_dist_explore) (1.7.3)\n",
            "Requirement already satisfied: matplotlib in /usr/local/lib/python3.7/dist-packages (from pyspark_dist_explore) (3.2.2)\n",
            "Requirement already satisfied: pandas in /usr/local/lib/python3.7/dist-packages (from pyspark_dist_explore) (1.3.5)\n",
            "Requirement already satisfied: cycler>=0.10 in /usr/local/lib/python3.7/dist-packages (from matplotlib->pyspark_dist_explore) (0.11.0)\n",
            "Requirement already satisfied: python-dateutil>=2.1 in /usr/local/lib/python3.7/dist-packages (from matplotlib->pyspark_dist_explore) (2.8.2)\n",
            "Requirement already satisfied: pyparsing!=2.0.4,!=2.1.2,!=2.1.6,>=2.0.1 in /usr/local/lib/python3.7/dist-packages (from matplotlib->pyspark_dist_explore) (3.0.9)\n",
            "Requirement already satisfied: kiwisolver>=1.0.1 in /usr/local/lib/python3.7/dist-packages (from matplotlib->pyspark_dist_explore) (1.4.4)\n",
            "Requirement already satisfied: typing-extensions in /usr/local/lib/python3.7/dist-packages (from kiwisolver>=1.0.1->matplotlib->pyspark_dist_explore) (4.1.1)\n",
            "Requirement already satisfied: six>=1.5 in /usr/local/lib/python3.7/dist-packages (from python-dateutil>=2.1->matplotlib->pyspark_dist_explore) (1.15.0)\n",
            "Requirement already satisfied: pytz>=2017.3 in /usr/local/lib/python3.7/dist-packages (from pandas->pyspark_dist_explore) (2022.1)\n",
            "Installing collected packages: pyspark-dist-explore\n",
            "Successfully installed pyspark-dist-explore-0.1.8\n"
          ]
        }
      ]
    },
    {
      "cell_type": "code",
      "source": [
        "pip install pyspark"
      ],
      "metadata": {
        "colab": {
          "base_uri": "https://localhost:8080/"
        },
        "id": "d2XCFhCpx1Tt",
        "outputId": "aaeb3a06-77bb-48c4-87d8-9e4bfcba84fe"
      },
      "execution_count": 4,
      "outputs": [
        {
          "output_type": "stream",
          "name": "stdout",
          "text": [
            "Looking in indexes: https://pypi.org/simple, https://us-python.pkg.dev/colab-wheels/public/simple/\n",
            "Collecting pyspark\n",
            "  Downloading pyspark-3.3.0.tar.gz (281.3 MB)\n",
            "\u001b[K     |████████████████████████████████| 281.3 MB 44 kB/s \n",
            "\u001b[?25hCollecting py4j==0.10.9.5\n",
            "  Downloading py4j-0.10.9.5-py2.py3-none-any.whl (199 kB)\n",
            "\u001b[K     |████████████████████████████████| 199 kB 46.4 MB/s \n",
            "\u001b[?25hBuilding wheels for collected packages: pyspark\n",
            "  Building wheel for pyspark (setup.py) ... \u001b[?25l\u001b[?25hdone\n",
            "  Created wheel for pyspark: filename=pyspark-3.3.0-py2.py3-none-any.whl size=281764026 sha256=1a0acddb0189a9c6c1c1fa3796105387aa1620a6ad342a7bf10f0fbf3de0f502\n",
            "  Stored in directory: /root/.cache/pip/wheels/7a/8e/1b/f73a52650d2e5f337708d9f6a1750d451a7349a867f928b885\n",
            "Successfully built pyspark\n",
            "Installing collected packages: py4j, pyspark\n",
            "Successfully installed py4j-0.10.9.5 pyspark-3.3.0\n"
          ]
        }
      ]
    },
    {
      "cell_type": "code",
      "source": [
        "pip install findspark"
      ],
      "metadata": {
        "colab": {
          "base_uri": "https://localhost:8080/"
        },
        "id": "begqhuu5yIMw",
        "outputId": "9e855ae5-b3f3-46d3-af76-6cb6dadd43fd"
      },
      "execution_count": 6,
      "outputs": [
        {
          "output_type": "stream",
          "name": "stdout",
          "text": [
            "Looking in indexes: https://pypi.org/simple, https://us-python.pkg.dev/colab-wheels/public/simple/\n",
            "Collecting findspark\n",
            "  Downloading findspark-2.0.1-py2.py3-none-any.whl (4.4 kB)\n",
            "Installing collected packages: findspark\n",
            "Successfully installed findspark-2.0.1\n"
          ]
        }
      ]
    },
    {
      "cell_type": "code",
      "source": [
        "from datetime import datetime, date\n",
        "import pandas as pd\n",
        "import pyspark\n",
        "from pyspark.sql import Row\n",
        "import findspark\n",
        "from pyspark.sql import SparkSession\n",
        "import seaborn as sns\n",
        "import matplotlib.pyplot as plt\n",
        "from pyspark.sql import SQLContext\n",
        "from pyspark_dist_explore import hist\n",
        "import matplotlib.pyplot as plt"
      ],
      "metadata": {
        "id": "k6GTwY3WFnfV"
      },
      "execution_count": 7,
      "outputs": []
    },
    {
      "cell_type": "markdown",
      "source": [
        "# **Upload CSV File**"
      ],
      "metadata": {
        "id": "nMK7PRLSGIyR"
      }
    },
    {
      "cell_type": "code",
      "source": [
        "#Load CSV File of Data into the Google Colab Environment\n",
        "#Dataset Contains Data Points on Churn Rate for Bank Customers\n",
        "from google.colab import files\n",
        "upload = files.upload()"
      ],
      "metadata": {
        "colab": {
          "resources": {
            "http://localhost:8080/nbextensions/google.colab/files.js": {
              "data": "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",
              "ok": true,
              "headers": [
                [
                  "content-type",
                  "application/javascript"
                ]
              ],
              "status": 200,
              "status_text": ""
            }
          },
          "base_uri": "https://localhost:8080/",
          "height": 73
        },
        "id": "ORyDMs_bGus3",
        "outputId": "3ff94ecb-920b-4ece-b9e4-1242293aeac5"
      },
      "execution_count": 8,
      "outputs": [
        {
          "output_type": "display_data",
          "data": {
            "text/plain": [
              "<IPython.core.display.HTML object>"
            ],
            "text/html": [
              "\n",
              "     <input type=\"file\" id=\"files-6ec35777-a7ab-4f34-85f9-302ca64ca745\" name=\"files[]\" multiple disabled\n",
              "        style=\"border:none\" />\n",
              "     <output id=\"result-6ec35777-a7ab-4f34-85f9-302ca64ca745\">\n",
              "      Upload widget is only available when the cell has been executed in the\n",
              "      current browser session. Please rerun this cell to enable.\n",
              "      </output>\n",
              "      <script src=\"/nbextensions/google.colab/files.js\"></script> "
            ]
          },
          "metadata": {}
        },
        {
          "output_type": "stream",
          "name": "stdout",
          "text": [
            "Saving coin_Ethereum.csv to coin_Ethereum.csv\n"
          ]
        }
      ]
    },
    {
      "cell_type": "markdown",
      "source": [
        "# **Start Spark Session and Find Spark Session**"
      ],
      "metadata": {
        "id": "IS7xZPhNGA3R"
      }
    },
    {
      "cell_type": "code",
      "source": [
        "#Start spark session and find spark session\n",
        "findspark.init()\n",
        "spark = SparkSession.builder.getOrCreate()"
      ],
      "metadata": {
        "id": "qS-FrmC-Rfi2"
      },
      "execution_count": 9,
      "outputs": []
    },
    {
      "cell_type": "markdown",
      "source": [
        "# **Create Spark Dataframe from CSV**"
      ],
      "metadata": {
        "id": "vuQxyEHGG6vJ"
      }
    },
    {
      "cell_type": "code",
      "source": [
        "#Define dataframe with CSV\n",
        "df_pyspark = spark.read.csv(\"coin_Ethereum.csv\")"
      ],
      "metadata": {
        "id": "U_FNSVnDHCru"
      },
      "execution_count": 10,
      "outputs": []
    },
    {
      "cell_type": "code",
      "source": [
        "#Show dataframe structure\n",
        "df_pyspark"
      ],
      "metadata": {
        "colab": {
          "base_uri": "https://localhost:8080/"
        },
        "id": "8hj5RFvpHaxw",
        "outputId": "c13aeb57-1657-4d0c-9707-092750ef4d11"
      },
      "execution_count": 11,
      "outputs": [
        {
          "output_type": "execute_result",
          "data": {
            "text/plain": [
              "DataFrame[_c0: string, _c1: string, _c2: string, _c3: string, _c4: string, _c5: string, _c6: string, _c7: string, _c8: string, _c9: string]"
            ]
          },
          "metadata": {},
          "execution_count": 11
        }
      ]
    },
    {
      "cell_type": "code",
      "source": [
        "#Show top 5 rows\n",
        "df_pyspark.show(5)"
      ],
      "metadata": {
        "colab": {
          "base_uri": "https://localhost:8080/"
        },
        "id": "UDUNl_RMJszK",
        "outputId": "ad3ccded-a29f-43ef-c989-f5a209087192"
      },
      "execution_count": 12,
      "outputs": [
        {
          "output_type": "stream",
          "name": "stdout",
          "text": [
            "+---+--------+------+-------------------+------------------+------------------+------------------+------------------+---------+-------------+\n",
            "|_c0|     _c1|   _c2|                _c3|               _c4|               _c5|               _c6|               _c7|      _c8|          _c9|\n",
            "+---+--------+------+-------------------+------------------+------------------+------------------+------------------+---------+-------------+\n",
            "|SNo|    Name|Symbol|               Date|              High|               Low|              Open|             Close|   Volume|    Marketcap|\n",
            "|  1|Ethereum|   ETH|2015-08-08 23:59:59|2.7988100051879883|0.7147250175476074| 2.793760061264038|0.7533249855041504| 674188.0|45486894.2408|\n",
            "|  2|Ethereum|   ETH|2015-08-09 23:59:59|0.8798099756240845| 0.629190981388092|0.7061359882354736|0.7018970251083374| 532170.0|42399573.4991|\n",
            "|  3|Ethereum|   ETH|2015-08-10 23:59:59|0.7298539876937866|0.6365460157394409|0.7139890193939209|0.7084479928016663| 405283.0|42818364.3945|\n",
            "|  4|Ethereum|   ETH|2015-08-11 23:59:59| 1.131410002708435|0.6632350087165833|0.7080870270729065|1.0678600072860718|1463100.0|64569288.4328|\n",
            "+---+--------+------+-------------------+------------------+------------------+------------------+------------------+---------+-------------+\n",
            "only showing top 5 rows\n",
            "\n"
          ]
        }
      ]
    },
    {
      "cell_type": "code",
      "source": [
        "#Show table for df\n",
        "df_pyspark.show()"
      ],
      "metadata": {
        "colab": {
          "base_uri": "https://localhost:8080/"
        },
        "id": "cmTadue0H1c9",
        "outputId": "20ec66ad-5f20-43a8-fec0-551874df1e31"
      },
      "execution_count": 13,
      "outputs": [
        {
          "output_type": "stream",
          "name": "stdout",
          "text": [
            "+---+--------+------+-------------------+------------------+------------------+------------------+------------------+---------+-------------+\n",
            "|_c0|     _c1|   _c2|                _c3|               _c4|               _c5|               _c6|               _c7|      _c8|          _c9|\n",
            "+---+--------+------+-------------------+------------------+------------------+------------------+------------------+---------+-------------+\n",
            "|SNo|    Name|Symbol|               Date|              High|               Low|              Open|             Close|   Volume|    Marketcap|\n",
            "|  1|Ethereum|   ETH|2015-08-08 23:59:59|2.7988100051879883|0.7147250175476074| 2.793760061264038|0.7533249855041504| 674188.0|45486894.2408|\n",
            "|  2|Ethereum|   ETH|2015-08-09 23:59:59|0.8798099756240845| 0.629190981388092|0.7061359882354736|0.7018970251083374| 532170.0|42399573.4991|\n",
            "|  3|Ethereum|   ETH|2015-08-10 23:59:59|0.7298539876937866|0.6365460157394409|0.7139890193939209|0.7084479928016663| 405283.0|42818364.3945|\n",
            "|  4|Ethereum|   ETH|2015-08-11 23:59:59| 1.131410002708435|0.6632350087165833|0.7080870270729065|1.0678600072860718|1463100.0|64569288.4328|\n",
            "|  5|Ethereum|   ETH|2015-08-12 23:59:59|1.2899399995803833|0.8836079835891724| 1.058750033378601|1.2174400091171265|2150620.0|73645010.9863|\n",
            "|  6|Ethereum|   ETH|2015-08-13 23:59:59|1.9650700092315674|1.1719900369644165|1.2222399711608887|1.8276699781417847|4068680.0|110607191.674|\n",
            "|  7|Ethereum|   ETH|2015-08-14 23:59:59|2.2618799209594727|1.7547500133514404| 1.810920000076294|1.8278700113296509|4637030.0|110672321.811|\n",
            "|  8|Ethereum|   ETH|2015-08-15 23:59:59|1.8772399425506592|1.5709799528121948|1.8028899431228638|1.6888999938964844|2554360.0|102303608.467|\n",
            "|  9|Ethereum|   ETH|2015-08-16 23:59:59|1.6952400207519531|1.0898100137710571|1.6843500137329102|1.5660300254821777|3550790.0|94901005.3503|\n",
            "| 10|Ethereum|   ETH|2015-08-17 23:59:59|1.5811899900436401|1.1853400468826294|1.5811899900436401|1.2036099433898926|1942830.0|87295366.5007|\n",
            "| 11|Ethereum|   ETH|2015-08-18 23:59:59|1.3311599493026733| 1.087049961090088|1.2152999639511108| 1.087049961090088|1485680.0| 78868413.078|\n",
            "| 12|Ethereum|   ETH|2015-08-19 23:59:59|1.3179899454116821|1.1669299602508545|1.1669299602508545|1.2588599920272827|1486240.0|91366391.4393|\n",
            "| 13|Ethereum|   ETH|2015-08-20 23:59:59|1.5333000421524048| 1.248329997062683|1.2511800527572632|1.4649200439453125|2843760.0|106351420.178|\n",
            "| 14|Ethereum|   ETH|2015-08-21 23:59:59|1.5564199686050415|1.3528000116348267|1.4775199890136719|1.3952900171279907|2020970.0|101331855.597|\n",
            "| 15|Ethereum|   ETH|2015-08-22 23:59:59|1.4764100313186646| 1.352679967880249|1.3962899446487427|  1.37923002243042| 948310.0|100201825.662|\n",
            "| 16|Ethereum|   ETH|2015-08-23 23:59:59|1.4097000360488892|1.2977700233459473|             1.375|1.3525899648666382|1589300.0|98300351.3461|\n",
            "| 17|Ethereum|   ETH|2015-08-24 23:59:59| 1.362779974937439|1.2312699556350708|1.3455899953842163|1.2312699556350708| 924920.0|89515256.5525|\n",
            "| 18|Ethereum|   ETH|2015-08-25 23:59:59| 1.241819977760315|1.1286499500274658|1.2286100387573242|1.1401900053024292|1307180.0|82922632.9052|\n",
            "| 19|Ethereum|   ETH|2015-08-26 23:59:59|1.2024799585342407|1.0618300437927246| 1.132789969444275| 1.159980058670044|1056750.0|84390923.5384|\n",
            "+---+--------+------+-------------------+------------------+------------------+------------------+------------------+---------+-------------+\n",
            "only showing top 20 rows\n",
            "\n"
          ]
        }
      ]
    },
    {
      "cell_type": "code",
      "source": [
        "#Show schema\n",
        "df_pyspark.printSchema()"
      ],
      "metadata": {
        "colab": {
          "base_uri": "https://localhost:8080/"
        },
        "id": "ZVaMl31XITl7",
        "outputId": "82d44be4-b8e1-49c6-db96-39417dcafd2f"
      },
      "execution_count": 14,
      "outputs": [
        {
          "output_type": "stream",
          "name": "stdout",
          "text": [
            "root\n",
            " |-- _c0: string (nullable = true)\n",
            " |-- _c1: string (nullable = true)\n",
            " |-- _c2: string (nullable = true)\n",
            " |-- _c3: string (nullable = true)\n",
            " |-- _c4: string (nullable = true)\n",
            " |-- _c5: string (nullable = true)\n",
            " |-- _c6: string (nullable = true)\n",
            " |-- _c7: string (nullable = true)\n",
            " |-- _c8: string (nullable = true)\n",
            " |-- _c9: string (nullable = true)\n",
            "\n"
          ]
        }
      ]
    },
    {
      "cell_type": "markdown",
      "source": [
        "# **Re-Ingest Dataset with Schema**"
      ],
      "metadata": {
        "id": "z31ypC5KI4nt"
      }
    },
    {
      "cell_type": "code",
      "source": [
        "#Reingest data w/ schema applied\n",
        "df_pyspark = spark.read.csv(\"coin_Ethereum.csv\", header = True, inferSchema = True)"
      ],
      "metadata": {
        "id": "DUJ4_YS1J-Hi"
      },
      "execution_count": 16,
      "outputs": []
    },
    {
      "cell_type": "code",
      "source": [
        "#Show top 5 rows with schema applied\n",
        "df_pyspark.show(5)"
      ],
      "metadata": {
        "colab": {
          "base_uri": "https://localhost:8080/"
        },
        "id": "sRQl0_QOKEFd",
        "outputId": "521ef90f-d4a9-42a5-fd74-7412b2e4ccbf"
      },
      "execution_count": 17,
      "outputs": [
        {
          "output_type": "stream",
          "name": "stdout",
          "text": [
            "+---+--------+------+-------------------+------------------+------------------+------------------+------------------+---------+---------------+\n",
            "|SNo|    Name|Symbol|               Date|              High|               Low|              Open|             Close|   Volume|      Marketcap|\n",
            "+---+--------+------+-------------------+------------------+------------------+------------------+------------------+---------+---------------+\n",
            "|  1|Ethereum|   ETH|2015-08-08 23:59:59|2.7988100051879883|0.7147250175476074| 2.793760061264038|0.7533249855041504| 674188.0|4.54868942408E7|\n",
            "|  2|Ethereum|   ETH|2015-08-09 23:59:59|0.8798099756240845| 0.629190981388092|0.7061359882354736|0.7018970251083374| 532170.0|4.23995734991E7|\n",
            "|  3|Ethereum|   ETH|2015-08-10 23:59:59|0.7298539876937866|0.6365460157394409|0.7139890193939209|0.7084479928016663| 405283.0|4.28183643945E7|\n",
            "|  4|Ethereum|   ETH|2015-08-11 23:59:59| 1.131410002708435|0.6632350087165833|0.7080870270729065|1.0678600072860718|1463100.0|6.45692884328E7|\n",
            "|  5|Ethereum|   ETH|2015-08-12 23:59:59|1.2899399995803833|0.8836079835891724| 1.058750033378601|1.2174400091171265|2150620.0|7.36450109863E7|\n",
            "+---+--------+------+-------------------+------------------+------------------+------------------+------------------+---------+---------------+\n",
            "only showing top 5 rows\n",
            "\n"
          ]
        }
      ]
    },
    {
      "cell_type": "code",
      "source": [
        "#Print data types\n",
        "df_pyspark.printSchema()"
      ],
      "metadata": {
        "colab": {
          "base_uri": "https://localhost:8080/"
        },
        "id": "WkpiTCdIKqfo",
        "outputId": "c68f75a4-07a4-4d38-db64-4daacc180a62"
      },
      "execution_count": 18,
      "outputs": [
        {
          "output_type": "stream",
          "name": "stdout",
          "text": [
            "root\n",
            " |-- SNo: integer (nullable = true)\n",
            " |-- Name: string (nullable = true)\n",
            " |-- Symbol: string (nullable = true)\n",
            " |-- Date: timestamp (nullable = true)\n",
            " |-- High: double (nullable = true)\n",
            " |-- Low: double (nullable = true)\n",
            " |-- Open: double (nullable = true)\n",
            " |-- Close: double (nullable = true)\n",
            " |-- Volume: double (nullable = true)\n",
            " |-- Marketcap: double (nullable = true)\n",
            "\n"
          ]
        }
      ]
    },
    {
      "cell_type": "code",
      "source": [
        "#Check the type of data object for dataframe\n",
        "type(df_pyspark)"
      ],
      "metadata": {
        "colab": {
          "base_uri": "https://localhost:8080/"
        },
        "id": "XfNiZ3_WLGmB",
        "outputId": "f0f693f1-22da-4db0-da04-5db73d3a404c"
      },
      "execution_count": 19,
      "outputs": [
        {
          "output_type": "execute_result",
          "data": {
            "text/plain": [
              "pyspark.sql.dataframe.DataFrame"
            ]
          },
          "metadata": {},
          "execution_count": 19
        }
      ]
    },
    {
      "cell_type": "code",
      "source": [
        "#Print coumns for the dataframe\n",
        "df_pyspark.columns"
      ],
      "metadata": {
        "colab": {
          "base_uri": "https://localhost:8080/"
        },
        "id": "g1JvbUA8Lg1t",
        "outputId": "9cf45d05-96af-4a8a-c34f-7cfe902e56dd"
      },
      "execution_count": 20,
      "outputs": [
        {
          "output_type": "execute_result",
          "data": {
            "text/plain": [
              "['SNo',\n",
              " 'Name',\n",
              " 'Symbol',\n",
              " 'Date',\n",
              " 'High',\n",
              " 'Low',\n",
              " 'Open',\n",
              " 'Close',\n",
              " 'Volume',\n",
              " 'Marketcap']"
            ]
          },
          "metadata": {},
          "execution_count": 20
        }
      ]
    },
    {
      "cell_type": "code",
      "source": [
        "#Print head of dataframe\n",
        "df_pyspark.head(3)"
      ],
      "metadata": {
        "colab": {
          "base_uri": "https://localhost:8080/"
        },
        "id": "r0MWnwntLlWN",
        "outputId": "228180e8-df09-4850-a443-82d2a4723c79"
      },
      "execution_count": 21,
      "outputs": [
        {
          "output_type": "execute_result",
          "data": {
            "text/plain": [
              "[Row(SNo=1, Name='Ethereum', Symbol='ETH', Date=datetime.datetime(2015, 8, 8, 23, 59, 59), High=2.7988100051879883, Low=0.7147250175476074, Open=2.793760061264038, Close=0.7533249855041504, Volume=674188.0, Marketcap=45486894.2408),\n",
              " Row(SNo=2, Name='Ethereum', Symbol='ETH', Date=datetime.datetime(2015, 8, 9, 23, 59, 59), High=0.8798099756240845, Low=0.629190981388092, Open=0.7061359882354736, Close=0.7018970251083374, Volume=532170.0, Marketcap=42399573.4991),\n",
              " Row(SNo=3, Name='Ethereum', Symbol='ETH', Date=datetime.datetime(2015, 8, 10, 23, 59, 59), High=0.7298539876937866, Low=0.6365460157394409, Open=0.7139890193939209, Close=0.7084479928016663, Volume=405283.0, Marketcap=42818364.3945)]"
            ]
          },
          "metadata": {},
          "execution_count": 21
        }
      ]
    },
    {
      "cell_type": "markdown",
      "source": [
        "# **EDA**"
      ],
      "metadata": {
        "id": "RwfHUN_kL2QI"
      }
    },
    {
      "cell_type": "code",
      "source": [
        "#Select Volume for the first 10 entries in the dataframe\n",
        "df_pyspark.select(\"Volume\").show(10)"
      ],
      "metadata": {
        "colab": {
          "base_uri": "https://localhost:8080/"
        },
        "id": "cAd8bVzCL4p-",
        "outputId": "7ad0068c-e9c1-46ed-e960-0b7352932da0"
      },
      "execution_count": 22,
      "outputs": [
        {
          "output_type": "stream",
          "name": "stdout",
          "text": [
            "+---------+\n",
            "|   Volume|\n",
            "+---------+\n",
            "| 674188.0|\n",
            "| 532170.0|\n",
            "| 405283.0|\n",
            "|1463100.0|\n",
            "|2150620.0|\n",
            "|4068680.0|\n",
            "|4637030.0|\n",
            "|2554360.0|\n",
            "|3550790.0|\n",
            "|1942830.0|\n",
            "+---------+\n",
            "only showing top 10 rows\n",
            "\n"
          ]
        }
      ]
    },
    {
      "cell_type": "code",
      "source": [
        "#Select Volume and Marketcap for the first 10 entries in the dataframe\n",
        "df_pyspark.select([\"Volume\", \"Marketcap\"]).show(10)"
      ],
      "metadata": {
        "colab": {
          "base_uri": "https://localhost:8080/"
        },
        "id": "PrFKBQoiMbYC",
        "outputId": "4ad77e36-bdac-4040-8289-6dbd60bb9b17"
      },
      "execution_count": 23,
      "outputs": [
        {
          "output_type": "stream",
          "name": "stdout",
          "text": [
            "+---------+---------------+\n",
            "|   Volume|      Marketcap|\n",
            "+---------+---------------+\n",
            "| 674188.0|4.54868942408E7|\n",
            "| 532170.0|4.23995734991E7|\n",
            "| 405283.0|4.28183643945E7|\n",
            "|1463100.0|6.45692884328E7|\n",
            "|2150620.0|7.36450109863E7|\n",
            "|4068680.0|1.10607191674E8|\n",
            "|4637030.0|1.10672321811E8|\n",
            "|2554360.0|1.02303608467E8|\n",
            "|3550790.0|9.49010053503E7|\n",
            "|1942830.0|8.72953665007E7|\n",
            "+---------+---------------+\n",
            "only showing top 10 rows\n",
            "\n"
          ]
        }
      ]
    },
    {
      "cell_type": "code",
      "source": [
        "#Summary statistics for dataframe\n",
        "df_pyspark.describe().show()"
      ],
      "metadata": {
        "colab": {
          "base_uri": "https://localhost:8080/"
        },
        "id": "FqM1iSXcNCZQ",
        "outputId": "278da0a2-3d3b-4b8d-a22d-fb08c81cbb75"
      },
      "execution_count": 24,
      "outputs": [
        {
          "output_type": "stream",
          "name": "stdout",
          "text": [
            "+-------+-----------------+--------+------+-------------------+------------------+------------------+------------------+--------------------+--------------------+\n",
            "|summary|              SNo|    Name|Symbol|               High|               Low|              Open|             Close|              Volume|           Marketcap|\n",
            "+-------+-----------------+--------+------+-------------------+------------------+------------------+------------------+--------------------+--------------------+\n",
            "|  count|             2160|    2160|  2160|               2160|              2160|              2160|              2160|                2160|                2160|\n",
            "|   mean|           1080.5|    null|  null| 398.25856811495885|365.59258875162004|382.87989906955437| 383.9106913193636|  7.05705789687946E9|4.172084004040071E10|\n",
            "| stddev|623.6826115902222|    null|  null|  628.0822814796489| 566.6115226638859| 599.7198620970062| 601.0787663056844|1.064525910524058E10|6.909183702982211E10|\n",
            "|    min|                1|Ethereum|   ETH|0.48298799991607666|0.4208970069885254|0.4315890073776245|0.4348289966583252|            102128.0|     3.22136261748E7|\n",
            "|    max|             2160|Ethereum|   ETH|       4362.3505418|     3785.84860304|     4174.63587254|     4168.70104865|   8.448291277649E10|  4.8288190049093E11|\n",
            "+-------+-----------------+--------+------+-------------------+------------------+------------------+------------------+--------------------+--------------------+\n",
            "\n"
          ]
        }
      ]
    },
    {
      "cell_type": "code",
      "source": [
        "#Remove entries with missing values\n",
        "df_pyspark.na.drop().show()"
      ],
      "metadata": {
        "colab": {
          "base_uri": "https://localhost:8080/"
        },
        "id": "GddgUM3tNvBQ",
        "outputId": "b0a1e736-013a-491d-829f-d03ca6b18e57"
      },
      "execution_count": 25,
      "outputs": [
        {
          "output_type": "stream",
          "name": "stdout",
          "text": [
            "+---+--------+------+-------------------+------------------+------------------+------------------+------------------+---------+---------------+\n",
            "|SNo|    Name|Symbol|               Date|              High|               Low|              Open|             Close|   Volume|      Marketcap|\n",
            "+---+--------+------+-------------------+------------------+------------------+------------------+------------------+---------+---------------+\n",
            "|  1|Ethereum|   ETH|2015-08-08 23:59:59|2.7988100051879883|0.7147250175476074| 2.793760061264038|0.7533249855041504| 674188.0|4.54868942408E7|\n",
            "|  2|Ethereum|   ETH|2015-08-09 23:59:59|0.8798099756240845| 0.629190981388092|0.7061359882354736|0.7018970251083374| 532170.0|4.23995734991E7|\n",
            "|  3|Ethereum|   ETH|2015-08-10 23:59:59|0.7298539876937866|0.6365460157394409|0.7139890193939209|0.7084479928016663| 405283.0|4.28183643945E7|\n",
            "|  4|Ethereum|   ETH|2015-08-11 23:59:59| 1.131410002708435|0.6632350087165833|0.7080870270729065|1.0678600072860718|1463100.0|6.45692884328E7|\n",
            "|  5|Ethereum|   ETH|2015-08-12 23:59:59|1.2899399995803833|0.8836079835891724| 1.058750033378601|1.2174400091171265|2150620.0|7.36450109863E7|\n",
            "|  6|Ethereum|   ETH|2015-08-13 23:59:59|1.9650700092315674|1.1719900369644165|1.2222399711608887|1.8276699781417847|4068680.0|1.10607191674E8|\n",
            "|  7|Ethereum|   ETH|2015-08-14 23:59:59|2.2618799209594727|1.7547500133514404| 1.810920000076294|1.8278700113296509|4637030.0|1.10672321811E8|\n",
            "|  8|Ethereum|   ETH|2015-08-15 23:59:59|1.8772399425506592|1.5709799528121948|1.8028899431228638|1.6888999938964844|2554360.0|1.02303608467E8|\n",
            "|  9|Ethereum|   ETH|2015-08-16 23:59:59|1.6952400207519531|1.0898100137710571|1.6843500137329102|1.5660300254821777|3550790.0|9.49010053503E7|\n",
            "| 10|Ethereum|   ETH|2015-08-17 23:59:59|1.5811899900436401|1.1853400468826294|1.5811899900436401|1.2036099433898926|1942830.0|8.72953665007E7|\n",
            "| 11|Ethereum|   ETH|2015-08-18 23:59:59|1.3311599493026733| 1.087049961090088|1.2152999639511108| 1.087049961090088|1485680.0| 7.8868413078E7|\n",
            "| 12|Ethereum|   ETH|2015-08-19 23:59:59|1.3179899454116821|1.1669299602508545|1.1669299602508545|1.2588599920272827|1486240.0|9.13663914393E7|\n",
            "| 13|Ethereum|   ETH|2015-08-20 23:59:59|1.5333000421524048| 1.248329997062683|1.2511800527572632|1.4649200439453125|2843760.0|1.06351420178E8|\n",
            "| 14|Ethereum|   ETH|2015-08-21 23:59:59|1.5564199686050415|1.3528000116348267|1.4775199890136719|1.3952900171279907|2020970.0|1.01331855597E8|\n",
            "| 15|Ethereum|   ETH|2015-08-22 23:59:59|1.4764100313186646| 1.352679967880249|1.3962899446487427|  1.37923002243042| 948310.0|1.00201825662E8|\n",
            "| 16|Ethereum|   ETH|2015-08-23 23:59:59|1.4097000360488892|1.2977700233459473|             1.375|1.3525899648666382|1589300.0|9.83003513461E7|\n",
            "| 17|Ethereum|   ETH|2015-08-24 23:59:59| 1.362779974937439|1.2312699556350708|1.3455899953842163|1.2312699556350708| 924920.0|8.95152565525E7|\n",
            "| 18|Ethereum|   ETH|2015-08-25 23:59:59| 1.241819977760315|1.1286499500274658|1.2286100387573242|1.1401900053024292|1307180.0|8.29226329052E7|\n",
            "| 19|Ethereum|   ETH|2015-08-26 23:59:59|1.2024799585342407|1.0618300437927246| 1.132789969444275| 1.159980058670044|1056750.0|8.43909235384E7|\n",
            "| 20|Ethereum|   ETH|2015-08-27 23:59:59| 1.188830018043518|1.1372900009155273|1.1698100566864014|1.1476999521255493| 686662.0|8.35245853858E7|\n",
            "+---+--------+------+-------------------+------------------+------------------+------------------+------------------+---------+---------------+\n",
            "only showing top 20 rows\n",
            "\n"
          ]
        }
      ]
    },
    {
      "cell_type": "code",
      "source": [
        "#Create filtered dataframe for Marketcap\n",
        "df_pyspark_mrkt = df_pyspark.filter(\"Marketcap > 4.54868942408E7\").show(5)"
      ],
      "metadata": {
        "colab": {
          "base_uri": "https://localhost:8080/"
        },
        "id": "OKNcIV2VNyYt",
        "outputId": "a70c38dc-fabe-454d-aac1-18c15a47b896"
      },
      "execution_count": 28,
      "outputs": [
        {
          "output_type": "stream",
          "name": "stdout",
          "text": [
            "+---+--------+------+-------------------+------------------+------------------+------------------+------------------+---------+---------------+\n",
            "|SNo|    Name|Symbol|               Date|              High|               Low|              Open|             Close|   Volume|      Marketcap|\n",
            "+---+--------+------+-------------------+------------------+------------------+------------------+------------------+---------+---------------+\n",
            "|  4|Ethereum|   ETH|2015-08-11 23:59:59| 1.131410002708435|0.6632350087165833|0.7080870270729065|1.0678600072860718|1463100.0|6.45692884328E7|\n",
            "|  5|Ethereum|   ETH|2015-08-12 23:59:59|1.2899399995803833|0.8836079835891724| 1.058750033378601|1.2174400091171265|2150620.0|7.36450109863E7|\n",
            "|  6|Ethereum|   ETH|2015-08-13 23:59:59|1.9650700092315674|1.1719900369644165|1.2222399711608887|1.8276699781417847|4068680.0|1.10607191674E8|\n",
            "|  7|Ethereum|   ETH|2015-08-14 23:59:59|2.2618799209594727|1.7547500133514404| 1.810920000076294|1.8278700113296509|4637030.0|1.10672321811E8|\n",
            "|  8|Ethereum|   ETH|2015-08-15 23:59:59|1.8772399425506592|1.5709799528121948|1.8028899431228638|1.6888999938964844|2554360.0|1.02303608467E8|\n",
            "+---+--------+------+-------------------+------------------+------------------+------------------+------------------+---------+---------------+\n",
            "only showing top 5 rows\n",
            "\n"
          ]
        }
      ]
    },
    {
      "cell_type": "code",
      "source": [
        "#Count entries by Volume\n",
        "df_pyspark.groupBy(\"Volume\").count().show()"
      ],
      "metadata": {
        "colab": {
          "base_uri": "https://localhost:8080/"
        },
        "id": "Y25If-nfP33M",
        "outputId": "9a1594d1-07d8-4bcc-ba3f-4fa228a785b3"
      },
      "execution_count": 31,
      "outputs": [
        {
          "output_type": "stream",
          "name": "stdout",
          "text": [
            "+--------------------+-----+\n",
            "|              Volume|count|\n",
            "+--------------------+-----+\n",
            "|  6.23718530934415E9|    1|\n",
            "| 1.36042685843639E10|    1|\n",
            "|  6.94637258952751E9|    1|\n",
            "| 1.04577776516621E10|    1|\n",
            "|1.577284648471008...|    1|\n",
            "|4.469991418832903E10|    1|\n",
            "|           2.54414E7|    1|\n",
            "|           1.59878E7|    1|\n",
            "|       6.502859776E9|    1|\n",
            "|  7.43090451509457E9|    1|\n",
            "| 1.51237213859445E10|    1|\n",
            "| 1.86701945948337E10|    1|\n",
            "|            249891.0|    1|\n",
            "|            652857.0|    1|\n",
            "|       1.478390016E9|    1|\n",
            "|        2.87787008E9|    1|\n",
            "|       1.808269952E9|    1|\n",
            "|           2.01608E9|    1|\n",
            "|   5.069636871774E10|    1|\n",
            "| 1.03628468984375E10|    1|\n",
            "+--------------------+-----+\n",
            "only showing top 20 rows\n",
            "\n"
          ]
        }
      ]
    },
    {
      "cell_type": "code",
      "source": [
        "#Group df entries by Marketcap\n",
        "df_pyspark.groupBy(\"Marketcap\").sum().show()"
      ],
      "metadata": {
        "colab": {
          "base_uri": "https://localhost:8080/"
        },
        "id": "KO--8qvMPh7o",
        "outputId": "5ef56a34-9ef1-4eea-bc74-b7c162ae2f57"
      },
      "execution_count": 34,
      "outputs": [
        {
          "output_type": "stream",
          "name": "stdout",
          "text": [
            "+-------------------+--------+------------------+------------------+------------------+------------------+-------------------+-------------------+\n",
            "|          Marketcap|sum(SNo)|         sum(High)|          sum(Low)|         sum(Open)|        sum(Close)|        sum(Volume)|     sum(Marketcap)|\n",
            "+-------------------+--------+------------------+------------------+------------------+------------------+-------------------+-------------------+\n",
            "|    9.61613933897E8|     318|  12.4483003616333|10.524700164794922|12.236900329589844|11.839500427246094|          5.81436E7|    9.61613933897E8|\n",
            "|3.39257129998582E10|    1418|     318.126310017|       307.6431542|     310.678630878|     318.126310017| 9.64176496518966E9|3.39257129998582E10|\n",
            "|1.89338826404166E10|    1536|     177.741727183|     173.287744022|     175.524753686|     174.920987616| 6.81582062739651E9|1.89338826404166E10|\n",
            "| 1.8709615890943E10|    1634|     172.922913631|     166.901097609|     168.008857304|     170.930890433|1.10044761452172E10| 1.8709615890943E10|\n",
            "|     1.0644414609E9|     320|15.785599708557129|13.095100402832031|13.199700355529785|13.095100402832031|        9.6994096E7|     1.0644414609E9|\n",
            "|    4.51783571646E9|     602|  51.7682991027832| 47.38029861450195|51.753700256347656| 50.03730010986328|          1.51416E8|    4.51783571646E9|\n",
            "|    6.87421222709E7|     113|0.9292929768562317|0.8621219992637634|0.8681020140647888|0.9157029986381531|           462464.0|    6.87421222709E7|\n",
            "|2.62788744804874E10|    1398|     248.138131717|     239.983459122|     241.497038946|     247.051016639| 8.54891706198239E9|2.62788744804874E10|\n",
            "| 2.8086412934271E11|    2121|     2761.36336634|     2336.36123343|     2742.46898406|     2419.90629016|   3.99991148045E10| 2.8086412934271E11|\n",
            "| 2.3047355611835E11|    2151|     1979.95812503|     1811.24586446|     1830.99691808|     1978.89466209|  1.988547474215E10| 2.3047355611835E11|\n",
            "|   3.11853261641E10|     685| 342.0270080566406|330.62200927734375| 337.7330017089844| 336.3710021972656|       9.25766976E8|   3.11853261641E10|\n",
            "|   1.11244629093E11|     885|1266.9300537109375|1016.0499877929688| 1158.260009765625| 1148.530029296875|      8.450970112E9|   1.11244629093E11|\n",
            "|   4.09031303958E10|     977|415.88800048828125| 393.8789978027344| 399.4110107421875| 414.2430114746094|            1.196E9|   4.09031303958E10|\n",
            "|    6.0080608858E10|    1036| 608.8109741210938|  595.593017578125| 605.4429931640625| 601.0770263671875|      1.637779968E9|    6.0080608858E10|\n",
            "|2.06680758566276E10|    1716|     187.940473093|     171.618074875|     171.618074875|     186.914005844|2.01603234429954E10|2.06680758566276E10|\n",
            "|2.63306011638005E10|    1807|     236.543977437|     232.324884475|     232.855677949|     235.483805219| 5.39740211673989E9|2.63306011638005E10|\n",
            "| 1.8266018341038E11|    2008|     1689.18668328|     1561.85349322|     1661.17021172|     1594.76269414|  4.439687183592E10| 1.8266018341038E11|\n",
            "|    8.85605044613E9|     636| 97.56189727783203| 79.43109893798828| 79.72039794921875| 96.98139953613281|       3.66847008E8|    8.85605044613E9|\n",
            "|   2.41573299209E10|     671|262.25201416015625|253.97500610351562| 257.9909973144531| 261.6659851074219|       3.85494016E8|   2.41573299209E10|\n",
            "|   4.82288423273E10|     962| 526.3790283203125|470.44000244140625| 524.2869873046875|489.95098876953125|          1.63888E9|   4.82288423273E10|\n",
            "+-------------------+--------+------------------+------------------+------------------+------------------+-------------------+-------------------+\n",
            "only showing top 20 rows\n",
            "\n"
          ]
        }
      ]
    },
    {
      "cell_type": "code",
      "source": [
        "#Calcuated sum of Volume\n",
        "df_pyspark.agg({\"Volume\": \"sum\"}).show()"
      ],
      "metadata": {
        "colab": {
          "base_uri": "https://localhost:8080/"
        },
        "id": "xH19hPTMQBQx",
        "outputId": "fe0a5a87-67e6-4842-eb59-f2aaa05342ab"
      },
      "execution_count": 35,
      "outputs": [
        {
          "output_type": "stream",
          "name": "stdout",
          "text": [
            "+--------------------+\n",
            "|         sum(Volume)|\n",
            "+--------------------+\n",
            "|1.524324505725963...|\n",
            "+--------------------+\n",
            "\n"
          ]
        }
      ]
    },
    {
      "cell_type": "code",
      "source": [
        "#Calcuated mean of estimated salaries\n",
        "df_pyspark.agg({\"Marketcap\": \"mean\"}).show()"
      ],
      "metadata": {
        "colab": {
          "base_uri": "https://localhost:8080/"
        },
        "id": "QVkqNHyvQZP7",
        "outputId": "eb34f36f-d648-493a-ad4d-14a92a67f775"
      },
      "execution_count": 36,
      "outputs": [
        {
          "output_type": "stream",
          "name": "stdout",
          "text": [
            "+--------------------+\n",
            "|      avg(Marketcap)|\n",
            "+--------------------+\n",
            "|4.172084004040071E10|\n",
            "+--------------------+\n",
            "\n"
          ]
        }
      ]
    },
    {
      "cell_type": "code",
      "source": [
        "#Creating Table\n",
        "df_pyspark.registerTempTable('EthTrade')\n",
        "sqlContext = SQLContext(spark)"
      ],
      "metadata": {
        "colab": {
          "base_uri": "https://localhost:8080/"
        },
        "id": "KLnNnrp3Q6yo",
        "outputId": "1623290d-59f4-424b-8c2e-055c758529c8"
      },
      "execution_count": 37,
      "outputs": [
        {
          "output_type": "stream",
          "name": "stderr",
          "text": [
            "/usr/local/lib/python3.7/dist-packages/pyspark/sql/dataframe.py:229: FutureWarning: Deprecated in 2.0, use createOrReplaceTempView instead.\n",
            "  warnings.warn(\"Deprecated in 2.0, use createOrReplaceTempView instead.\", FutureWarning)\n",
            "/usr/local/lib/python3.7/dist-packages/pyspark/sql/context.py:114: FutureWarning: Deprecated in 3.0.0. Use SparkSession.builder.getOrCreate() instead.\n",
            "  FutureWarning,\n"
          ]
        }
      ]
    },
    {
      "cell_type": "code",
      "source": [
        "#Create filtered dataframe for bank customers 21 or younger\n",
        "#Targets college age subset of bank customers\n",
        "df_pyspark_21_younger = df_pyspark.filter(\"Marketcap > 4.54868942408E7\").show()"
      ],
      "metadata": {
        "colab": {
          "base_uri": "https://localhost:8080/"
        },
        "id": "4kntk7BmUrVn",
        "outputId": "7f93da27-b769-49f3-b8b2-0da81d76024f"
      },
      "execution_count": 38,
      "outputs": [
        {
          "output_type": "stream",
          "name": "stdout",
          "text": [
            "+---+--------+------+-------------------+------------------+------------------+------------------+------------------+---------+---------------+\n",
            "|SNo|    Name|Symbol|               Date|              High|               Low|              Open|             Close|   Volume|      Marketcap|\n",
            "+---+--------+------+-------------------+------------------+------------------+------------------+------------------+---------+---------------+\n",
            "|  4|Ethereum|   ETH|2015-08-11 23:59:59| 1.131410002708435|0.6632350087165833|0.7080870270729065|1.0678600072860718|1463100.0|6.45692884328E7|\n",
            "|  5|Ethereum|   ETH|2015-08-12 23:59:59|1.2899399995803833|0.8836079835891724| 1.058750033378601|1.2174400091171265|2150620.0|7.36450109863E7|\n",
            "|  6|Ethereum|   ETH|2015-08-13 23:59:59|1.9650700092315674|1.1719900369644165|1.2222399711608887|1.8276699781417847|4068680.0|1.10607191674E8|\n",
            "|  7|Ethereum|   ETH|2015-08-14 23:59:59|2.2618799209594727|1.7547500133514404| 1.810920000076294|1.8278700113296509|4637030.0|1.10672321811E8|\n",
            "|  8|Ethereum|   ETH|2015-08-15 23:59:59|1.8772399425506592|1.5709799528121948|1.8028899431228638|1.6888999938964844|2554360.0|1.02303608467E8|\n",
            "|  9|Ethereum|   ETH|2015-08-16 23:59:59|1.6952400207519531|1.0898100137710571|1.6843500137329102|1.5660300254821777|3550790.0|9.49010053503E7|\n",
            "| 10|Ethereum|   ETH|2015-08-17 23:59:59|1.5811899900436401|1.1853400468826294|1.5811899900436401|1.2036099433898926|1942830.0|8.72953665007E7|\n",
            "| 11|Ethereum|   ETH|2015-08-18 23:59:59|1.3311599493026733| 1.087049961090088|1.2152999639511108| 1.087049961090088|1485680.0| 7.8868413078E7|\n",
            "| 12|Ethereum|   ETH|2015-08-19 23:59:59|1.3179899454116821|1.1669299602508545|1.1669299602508545|1.2588599920272827|1486240.0|9.13663914393E7|\n",
            "| 13|Ethereum|   ETH|2015-08-20 23:59:59|1.5333000421524048| 1.248329997062683|1.2511800527572632|1.4649200439453125|2843760.0|1.06351420178E8|\n",
            "| 14|Ethereum|   ETH|2015-08-21 23:59:59|1.5564199686050415|1.3528000116348267|1.4775199890136719|1.3952900171279907|2020970.0|1.01331855597E8|\n",
            "| 15|Ethereum|   ETH|2015-08-22 23:59:59|1.4764100313186646| 1.352679967880249|1.3962899446487427|  1.37923002243042| 948310.0|1.00201825662E8|\n",
            "| 16|Ethereum|   ETH|2015-08-23 23:59:59|1.4097000360488892|1.2977700233459473|             1.375|1.3525899648666382|1589300.0|9.83003513461E7|\n",
            "| 17|Ethereum|   ETH|2015-08-24 23:59:59| 1.362779974937439|1.2312699556350708|1.3455899953842163|1.2312699556350708| 924920.0|8.95152565525E7|\n",
            "| 18|Ethereum|   ETH|2015-08-25 23:59:59| 1.241819977760315|1.1286499500274658|1.2286100387573242|1.1401900053024292|1307180.0|8.29226329052E7|\n",
            "| 19|Ethereum|   ETH|2015-08-26 23:59:59|1.2024799585342407|1.0618300437927246| 1.132789969444275| 1.159980058670044|1056750.0|8.43909235384E7|\n",
            "| 20|Ethereum|   ETH|2015-08-27 23:59:59| 1.188830018043518|1.1372900009155273|1.1698100566864014|1.1476999521255493| 686662.0|8.35245853858E7|\n",
            "| 21|Ethereum|   ETH|2015-08-28 23:59:59|1.2077900171279907|1.1204999685287476|1.1476600170135498|1.1913800239562988| 721872.0|8.67310766374E7|\n",
            "| 22|Ethereum|   ETH|2015-08-29 23:59:59|1.2072099447250366|1.1494899988174438|1.1935299634933472|1.1825499534606934| 375377.0|8.61138946912E7|\n",
            "| 23|Ethereum|   ETH|2015-08-30 23:59:59|1.3679900169372559| 1.170609951019287|1.1829899549484253|1.3192700147628784|1337650.0|9.60973491063E7|\n",
            "+---+--------+------+-------------------+------------------+------------------+------------------+------------------+---------+---------------+\n",
            "only showing top 20 rows\n",
            "\n"
          ]
        }
      ]
    },
    {
      "cell_type": "code",
      "source": [
        "#Running Query for High Marketcap\n",
        "df_pyspark_High_Marketcap = sqlContext.sql(\"SELECT Marketcap from EthTrade where Marketcap > 4.54868942408E7\").toPandas()"
      ],
      "metadata": {
        "id": "mk-zQFu7S4hG"
      },
      "execution_count": 40,
      "outputs": []
    },
    {
      "cell_type": "code",
      "source": [
        "df_pyspark_High_Marketcap"
      ],
      "metadata": {
        "colab": {
          "base_uri": "https://localhost:8080/",
          "height": 424
        },
        "id": "kR_RNzvO1vlX",
        "outputId": "aed4a920-6329-4e74-f9b6-d715346c13fb"
      },
      "execution_count": 41,
      "outputs": [
        {
          "output_type": "execute_result",
          "data": {
            "text/plain": [
              "         Marketcap\n",
              "0     6.456929e+07\n",
              "1     7.364501e+07\n",
              "2     1.106072e+08\n",
              "3     1.106723e+08\n",
              "4     1.023036e+08\n",
              "...            ...\n",
              "2138  2.505527e+11\n",
              "2139  2.594475e+11\n",
              "2140  2.706217e+11\n",
              "2141  2.562978e+11\n",
              "2142  2.710286e+11\n",
              "\n",
              "[2143 rows x 1 columns]"
            ],
            "text/html": [
              "\n",
              "  <div id=\"df-db6c3990-fd5b-4cd1-bc87-4da6073453f7\">\n",
              "    <div class=\"colab-df-container\">\n",
              "      <div>\n",
              "<style scoped>\n",
              "    .dataframe tbody tr th:only-of-type {\n",
              "        vertical-align: middle;\n",
              "    }\n",
              "\n",
              "    .dataframe tbody tr th {\n",
              "        vertical-align: top;\n",
              "    }\n",
              "\n",
              "    .dataframe thead th {\n",
              "        text-align: right;\n",
              "    }\n",
              "</style>\n",
              "<table border=\"1\" class=\"dataframe\">\n",
              "  <thead>\n",
              "    <tr style=\"text-align: right;\">\n",
              "      <th></th>\n",
              "      <th>Marketcap</th>\n",
              "    </tr>\n",
              "  </thead>\n",
              "  <tbody>\n",
              "    <tr>\n",
              "      <th>0</th>\n",
              "      <td>6.456929e+07</td>\n",
              "    </tr>\n",
              "    <tr>\n",
              "      <th>1</th>\n",
              "      <td>7.364501e+07</td>\n",
              "    </tr>\n",
              "    <tr>\n",
              "      <th>2</th>\n",
              "      <td>1.106072e+08</td>\n",
              "    </tr>\n",
              "    <tr>\n",
              "      <th>3</th>\n",
              "      <td>1.106723e+08</td>\n",
              "    </tr>\n",
              "    <tr>\n",
              "      <th>4</th>\n",
              "      <td>1.023036e+08</td>\n",
              "    </tr>\n",
              "    <tr>\n",
              "      <th>...</th>\n",
              "      <td>...</td>\n",
              "    </tr>\n",
              "    <tr>\n",
              "      <th>2138</th>\n",
              "      <td>2.505527e+11</td>\n",
              "    </tr>\n",
              "    <tr>\n",
              "      <th>2139</th>\n",
              "      <td>2.594475e+11</td>\n",
              "    </tr>\n",
              "    <tr>\n",
              "      <th>2140</th>\n",
              "      <td>2.706217e+11</td>\n",
              "    </tr>\n",
              "    <tr>\n",
              "      <th>2141</th>\n",
              "      <td>2.562978e+11</td>\n",
              "    </tr>\n",
              "    <tr>\n",
              "      <th>2142</th>\n",
              "      <td>2.710286e+11</td>\n",
              "    </tr>\n",
              "  </tbody>\n",
              "</table>\n",
              "<p>2143 rows × 1 columns</p>\n",
              "</div>\n",
              "      <button class=\"colab-df-convert\" onclick=\"convertToInteractive('df-db6c3990-fd5b-4cd1-bc87-4da6073453f7')\"\n",
              "              title=\"Convert this dataframe to an interactive table.\"\n",
              "              style=\"display:none;\">\n",
              "        \n",
              "  <svg xmlns=\"http://www.w3.org/2000/svg\" height=\"24px\"viewBox=\"0 0 24 24\"\n",
              "       width=\"24px\">\n",
              "    <path d=\"M0 0h24v24H0V0z\" fill=\"none\"/>\n",
              "    <path d=\"M18.56 5.44l.94 2.06.94-2.06 2.06-.94-2.06-.94-.94-2.06-.94 2.06-2.06.94zm-11 1L8.5 8.5l.94-2.06 2.06-.94-2.06-.94L8.5 2.5l-.94 2.06-2.06.94zm10 10l.94 2.06.94-2.06 2.06-.94-2.06-.94-.94-2.06-.94 2.06-2.06.94z\"/><path d=\"M17.41 7.96l-1.37-1.37c-.4-.4-.92-.59-1.43-.59-.52 0-1.04.2-1.43.59L10.3 9.45l-7.72 7.72c-.78.78-.78 2.05 0 2.83L4 21.41c.39.39.9.59 1.41.59.51 0 1.02-.2 1.41-.59l7.78-7.78 2.81-2.81c.8-.78.8-2.07 0-2.86zM5.41 20L4 18.59l7.72-7.72 1.47 1.35L5.41 20z\"/>\n",
              "  </svg>\n",
              "      </button>\n",
              "      \n",
              "  <style>\n",
              "    .colab-df-container {\n",
              "      display:flex;\n",
              "      flex-wrap:wrap;\n",
              "      gap: 12px;\n",
              "    }\n",
              "\n",
              "    .colab-df-convert {\n",
              "      background-color: #E8F0FE;\n",
              "      border: none;\n",
              "      border-radius: 50%;\n",
              "      cursor: pointer;\n",
              "      display: none;\n",
              "      fill: #1967D2;\n",
              "      height: 32px;\n",
              "      padding: 0 0 0 0;\n",
              "      width: 32px;\n",
              "    }\n",
              "\n",
              "    .colab-df-convert:hover {\n",
              "      background-color: #E2EBFA;\n",
              "      box-shadow: 0px 1px 2px rgba(60, 64, 67, 0.3), 0px 1px 3px 1px rgba(60, 64, 67, 0.15);\n",
              "      fill: #174EA6;\n",
              "    }\n",
              "\n",
              "    [theme=dark] .colab-df-convert {\n",
              "      background-color: #3B4455;\n",
              "      fill: #D2E3FC;\n",
              "    }\n",
              "\n",
              "    [theme=dark] .colab-df-convert:hover {\n",
              "      background-color: #434B5C;\n",
              "      box-shadow: 0px 1px 3px 1px rgba(0, 0, 0, 0.15);\n",
              "      filter: drop-shadow(0px 1px 2px rgba(0, 0, 0, 0.3));\n",
              "      fill: #FFFFFF;\n",
              "    }\n",
              "  </style>\n",
              "\n",
              "      <script>\n",
              "        const buttonEl =\n",
              "          document.querySelector('#df-db6c3990-fd5b-4cd1-bc87-4da6073453f7 button.colab-df-convert');\n",
              "        buttonEl.style.display =\n",
              "          google.colab.kernel.accessAllowed ? 'block' : 'none';\n",
              "\n",
              "        async function convertToInteractive(key) {\n",
              "          const element = document.querySelector('#df-db6c3990-fd5b-4cd1-bc87-4da6073453f7');\n",
              "          const dataTable =\n",
              "            await google.colab.kernel.invokeFunction('convertToInteractive',\n",
              "                                                     [key], {});\n",
              "          if (!dataTable) return;\n",
              "\n",
              "          const docLinkHtml = 'Like what you see? Visit the ' +\n",
              "            '<a target=\"_blank\" href=https://colab.research.google.com/notebooks/data_table.ipynb>data table notebook</a>'\n",
              "            + ' to learn more about interactive tables.';\n",
              "          element.innerHTML = '';\n",
              "          dataTable['output_type'] = 'display_data';\n",
              "          await google.colab.output.renderOutput(dataTable, element);\n",
              "          const docLink = document.createElement('div');\n",
              "          docLink.innerHTML = docLinkHtml;\n",
              "          element.appendChild(docLink);\n",
              "        }\n",
              "      </script>\n",
              "    </div>\n",
              "  </div>\n",
              "  "
            ]
          },
          "metadata": {},
          "execution_count": 41
        }
      ]
    },
    {
      "cell_type": "markdown",
      "source": [
        "# **Data Viz**"
      ],
      "metadata": {
        "id": "gubSjzDrQ3lq"
      }
    },
    {
      "cell_type": "code",
      "source": [
        "df_pyspark_High_Marketcap.plot.bar()  "
      ],
      "metadata": {
        "colab": {
          "base_uri": "https://localhost:8080/",
          "height": 309
        },
        "id": "egtHn7O5bU7q",
        "outputId": "92e714ac-d635-4edb-9f51-50af8c20f0e4"
      },
      "execution_count": 44,
      "outputs": [
        {
          "output_type": "execute_result",
          "data": {
            "text/plain": [
              "<matplotlib.axes._subplots.AxesSubplot at 0x7f2593978450>"
            ]
          },
          "metadata": {},
          "execution_count": 44
        },
        {
          "output_type": "display_data",
          "data": {
            "text/plain": [
              "<Figure size 432x288 with 1 Axes>"
            ],
            "image/png": "[encoded data removed]"
          },
          "metadata": {
            "needs_background": "light"
          }
        }
      ]
    },
    {
      "cell_type": "code",
      "source": [
        "#Distribution of Age of Bank Customers\n",
        "fig, ax = plt.subplots()\n",
        "hist(ax, df_pyspark.select('Marketcap'), bins = 20, color=['blue'])"
      ],
      "metadata": {
        "colab": {
          "base_uri": "https://localhost:8080/",
          "height": 452
        },
        "id": "X_vYAiyTdIoD",
        "outputId": "d399a2d9-6959-447a-ea78-2c42bf93f253"
      },
      "execution_count": 45,
      "outputs": [
        {
          "output_type": "execute_result",
          "data": {
            "text/plain": [
              "(array([1237.,  493.,  150.,   69.,   22.,   23.,   14.,   16.,   35.,\n",
              "          17.,   22.,   20.,   13.,   11.,    2.,    2.,    5.,    3.,\n",
              "           4.,    2.]),\n",
              " array([3.22136262e+07, 2.41746980e+10, 4.83171823e+10, 7.24596667e+10,\n",
              "        9.66021510e+10, 1.20744635e+11, 1.44887120e+11, 1.69029604e+11,\n",
              "        1.93172088e+11, 2.17314573e+11, 2.41457057e+11, 2.65599541e+11,\n",
              "        2.89742026e+11, 3.13884510e+11, 3.38026994e+11, 3.62169479e+11,\n",
              "        3.86311963e+11, 4.10454447e+11, 4.34596932e+11, 4.58739416e+11,\n",
              "        4.82881900e+11]),\n",
              " <a list of 20 Patch objects>)"
            ]
          },
          "metadata": {},
          "execution_count": 45
        },
        {
          "output_type": "display_data",
          "data": {
            "text/plain": [
              "<Figure size 432x288 with 1 Axes>"
            ],
            "image/png": "[encoded data removed]"
          },
          "metadata": {
            "needs_background": "light"
          }
        }
      ]
    },
    {
      "cell_type": "code",
      "source": [
        "#Distribution of Estimated Salaries of Bank Customers\n",
        "fig, ax = plt.subplots()\n",
        "hist(ax, df_pyspark.select('Volume'), bins = 20, color=['red'])"
      ],
      "metadata": {
        "colab": {
          "base_uri": "https://localhost:8080/",
          "height": 469
        },
        "id": "4A-8bsbxf5H4",
        "outputId": "973a7bcb-56db-41bf-c46e-c1c06c805f64"
      },
      "execution_count": 46,
      "outputs": [
        {
          "output_type": "execute_result",
          "data": {
            "text/plain": [
              "(array([1.271e+03, 2.890e+02, 1.950e+02, 1.260e+02, 6.800e+01, 6.000e+01,\n",
              "        4.100e+01, 3.100e+01, 2.000e+01, 1.800e+01, 1.300e+01, 1.000e+01,\n",
              "        8.000e+00, 3.000e+00, 3.000e+00, 0.000e+00, 2.000e+00, 0.000e+00,\n",
              "        1.000e+00, 1.000e+00]),\n",
              " array([1.02128000e+05, 4.22424266e+09, 8.44838319e+09, 1.26725237e+10,\n",
              "        1.68966643e+10, 2.11208048e+10, 2.53449453e+10, 2.95690859e+10,\n",
              "        3.37932264e+10, 3.80173669e+10, 4.22415075e+10, 4.64656480e+10,\n",
              "        5.06897885e+10, 5.49139290e+10, 5.91380696e+10, 6.33622101e+10,\n",
              "        6.75863506e+10, 7.18104912e+10, 7.60346317e+10, 8.02587722e+10,\n",
              "        8.44829128e+10]),\n",
              " <a list of 20 Patch objects>)"
            ]
          },
          "metadata": {},
          "execution_count": 46
        },
        {
          "output_type": "display_data",
          "data": {
            "text/plain": [
              "<Figure size 432x288 with 1 Axes>"
            ],
            "image/png": "[encoded data removed]"
          },
          "metadata": {
            "needs_background": "light"
          }
        }
      ]
    }
  ]
}